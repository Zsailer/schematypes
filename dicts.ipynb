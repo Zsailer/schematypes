{
 "cells": [
  {
   "cell_type": "code",
   "execution_count": 6,
   "metadata": {},
   "outputs": [],
   "source": [
    "    import importnb\n",
    "    with importnb.Notebook():\n",
    "        try: \n",
    "            from .schemas import Dict, List\n",
    "        except: \n",
    "            from schemas import Dict, List\n"
   ]
  },
  {
   "cell_type": "code",
   "execution_count": 7,
   "metadata": {},
   "outputs": [],
   "source": [
    "    class DictofDict(Dict, additionalProperties=Dict.__schema__): \n",
    "        def graph(x, **kwargs): return __import__('networkx').from_dict_of_dicts(x, **kwargs)\n",
    "        def digraph(x, **kwargs): \n",
    "            kwargs['create_using'] = kwargs.get('create_using', __import__('networkx').DiGraph())\n",
    "            return x.graph(**kwargs)\n",
    "    \n",
    "    class DictofList(Dict, additionalProperties=List.__schema__): \n",
    "        def graph(x, **kwargs): return __import__('networkx').from_dict_of_lists(x, **kwargs)\n",
    "        def digraph(x, **kwargs): \n",
    "            kwargs['create_using'] = kwargs.get('create_using', __import__('networkx').DiGraph())\n",
    "            return x.graph(**kwargs)\n"
   ]
  },
  {
   "cell_type": "code",
   "execution_count": 8,
   "metadata": {},
   "outputs": [],
   "source": [
    "    class Test(__import__('unittest').TestCase):\n",
    "        def test_instances(x): ..."
   ]
  },
  {
   "cell_type": "code",
   "execution_count": 9,
   "metadata": {},
   "outputs": [
    {
     "name": "stderr",
     "output_type": "stream",
     "text": [
      ".\n",
      "----------------------------------------------------------------------\n",
      "Ran 1 test in 0.001s\n",
      "\n",
      "OK\n"
     ]
    }
   ],
   "source": [
    "    def load_tests(loader, tests, ignore): tests.addTests(doctest.DocTestSuite(importlib.import_module(__name__), optionflags=doctest.ELLIPSIS)); return tests\n",
    "    if __name__ == '__main__': \n",
    "        import unittest, pytest, jsonschema, importlib, doctest\n",
    "        unittest.main(argv=' ', exit=False, verbosity=1)"
   ]
  },
  {
   "cell_type": "code",
   "execution_count": 12,
   "metadata": {},
   "outputs": [
    {
     "name": "stdout",
     "output_type": "stream",
     "text": [
      "[NbConvertApp] Converting notebook dicts.ipynb to script\n",
      "[NbConvertApp] Writing 1589 bytes to dicts.py\n",
      "\u001b[1mreformatted dicts.py\u001b[0m\n",
      "\u001b[1mAll done! ✨ 🍰 ✨\u001b[0m\n",
      "\u001b[1m1 file reformatted\u001b[0m.\u001b[0m\n",
      "parsing /Users/tonyfast/xxxxx/tonyfast/jschema/dicts.py...\n"
     ]
    },
    {
     "data": {
      "image/svg+xml": [
       "<svg height=\"91pt\" viewBox=\"0.00 0.00 304.98 91.00\" width=\"305pt\" xmlns=\"http://www.w3.org/2000/svg\" xmlns:xlink=\"http://www.w3.org/1999/xlink\">\n",
       "<g class=\"graph\" id=\"graph0\" transform=\"scale(1 1) rotate(0) translate(4 87)\">\n",
       "<title>classes_dicts</title>\n",
       "<polygon fill=\"#ffffff\" points=\"-4,4 -4,-87 300.9761,-87 300.9761,4 -4,4\" stroke=\"transparent\"/>\n",
       "<!-- 0 -->\n",
       "<g class=\"node\" id=\"node1\">\n",
       "<title>0</title>\n",
       "<polygon fill=\"none\" points=\"0,-.5 0,-82.5 75.8691,-82.5 75.8691,-.5 0,-.5\" stroke=\"#000000\"/>\n",
       "<text fill=\"#000000\" font-family=\"Times,serif\" font-size=\"14.00\" text-anchor=\"middle\" x=\"37.9346\" y=\"-67.3\">DictofDict</text>\n",
       "<polyline fill=\"none\" points=\"0,-60.5 75.8691,-60.5 \" stroke=\"#000000\"/>\n",
       "<polyline fill=\"none\" points=\"0,-36.5 75.8691,-36.5 \" stroke=\"#000000\"/>\n",
       "<text fill=\"#000000\" font-family=\"Times,serif\" font-size=\"14.00\" text-anchor=\"start\" x=\"8\" y=\"-21.3\">digraph(x)</text>\n",
       "<text fill=\"#000000\" font-family=\"Times,serif\" font-size=\"14.00\" text-anchor=\"start\" x=\"8\" y=\"-7.3\">graph(x)</text>\n",
       "</g>\n",
       "<!-- 1 -->\n",
       "<g class=\"node\" id=\"node2\">\n",
       "<title>1</title>\n",
       "<polygon fill=\"none\" points=\"93.3896,-.5 93.3896,-82.5 168.4795,-82.5 168.4795,-.5 93.3896,-.5\" stroke=\"#000000\"/>\n",
       "<text fill=\"#000000\" font-family=\"Times,serif\" font-size=\"14.00\" text-anchor=\"middle\" x=\"130.9346\" y=\"-67.3\">DictofList</text>\n",
       "<polyline fill=\"none\" points=\"93.3896,-60.5 168.4795,-60.5 \" stroke=\"#000000\"/>\n",
       "<polyline fill=\"none\" points=\"93.3896,-36.5 168.4795,-36.5 \" stroke=\"#000000\"/>\n",
       "<text fill=\"#000000\" font-family=\"Times,serif\" font-size=\"14.00\" text-anchor=\"start\" x=\"101.3896\" y=\"-21.3\">digraph(x)</text>\n",
       "<text fill=\"#000000\" font-family=\"Times,serif\" font-size=\"14.00\" text-anchor=\"start\" x=\"101.3896\" y=\"-7.3\">graph(x)</text>\n",
       "</g>\n",
       "<!-- 2 -->\n",
       "<g class=\"node\" id=\"node3\">\n",
       "<title>2</title>\n",
       "<polygon fill=\"none\" points=\"186.8931,-7.5 186.8931,-75.5 296.9761,-75.5 296.9761,-7.5 186.8931,-7.5\" stroke=\"#000000\"/>\n",
       "<text fill=\"#000000\" font-family=\"Times,serif\" font-size=\"14.00\" text-anchor=\"middle\" x=\"241.9346\" y=\"-60.3\">Test</text>\n",
       "<polyline fill=\"none\" points=\"186.8931,-53.5 296.9761,-53.5 \" stroke=\"#000000\"/>\n",
       "<polyline fill=\"none\" points=\"186.8931,-29.5 296.9761,-29.5 \" stroke=\"#000000\"/>\n",
       "<text fill=\"#000000\" font-family=\"Times,serif\" font-size=\"14.00\" text-anchor=\"start\" x=\"194.8931\" y=\"-14.3\">test_instances(x)</text>\n",
       "</g>\n",
       "</g>\n",
       "</svg>"
      ],
      "text/plain": [
       "<IPython.core.display.SVG object>"
      ]
     },
     "metadata": {},
     "output_type": "display_data"
    }
   ],
   "source": [
    "    if __name__ == '__main__': \n",
    "        !jupyter nbconvert --to script dicts.ipynb\n",
    "        !black dicts.py\n",
    "        !pyreverse dicts -osvg -pdicts\n",
    "        display(__import__('IPython').display.SVG('classes_dicts.svg'))        \n",
    "        !rm classes_dicts.svg dicts.py"
   ]
  },
  {
   "cell_type": "code",
   "execution_count": null,
   "metadata": {},
   "outputs": [],
   "source": []
  }
 ],
 "metadata": {
  "kernelspec": {
   "display_name": "Python 3",
   "language": "python",
   "name": "python3"
  },
  "language_info": {
   "codemirror_mode": {
    "name": "ipython",
    "version": 3
   },
   "file_extension": ".py",
   "mimetype": "text/x-python",
   "name": "python",
   "nbconvert_exporter": "python",
   "pygments_lexer": "ipython3",
   "version": "3.7.3"
  }
 },
 "nbformat": 4,
 "nbformat_minor": 4
}
