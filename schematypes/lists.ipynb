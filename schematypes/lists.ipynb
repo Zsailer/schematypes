{
 "cells": [
  {
   "cell_type": "code",
   "execution_count": 1,
   "metadata": {},
   "outputs": [],
   "source": [
    "    import importnb\n",
    "    with importnb.Notebook():\n",
    "        try: \n",
    "            from .schemas import List, Dict\n",
    "            from .strings import Uri, String\n",
    "        except: \n",
    "            from schemas import List, Dict\n",
    "            from strings import Uri, String\n"
   ]
  },
  {
   "cell_type": "code",
   "execution_count": 2,
   "metadata": {},
   "outputs": [],
   "source": [
    "    class ListofList(List, additionalProperties=List.__schema__): ...\n",
    "    class ListofDict(List, additionalProperties=Dict.__schema__): ..."
   ]
  },
  {
   "cell_type": "code",
   "execution_count": 3,
   "metadata": {},
   "outputs": [],
   "source": [
    "    class ListofUri(List, items=Uri.__schema__, minItems=1): \n",
    "        def text(x): return aiorun(x.gather(json=False))\n",
    "        def json(x): return aiorun(x.gather())\n",
    "        \n",
    "        async def one(self, session, url, json=True):\n",
    "            async with session.get(url) as response: return await response.json() if json else response.text()\n",
    "            \n",
    "        async def gather(x, json=True):\n",
    "            async with __import__('aiohttp').ClientSession() as session: return await __import__('asyncio').gather(*(x.one(session, _, json) for _ in x))\n",
    "    def aiorun(object):\n",
    "        try: return __import__('asyncio').run(object)\n",
    "        except RuntimeError as e:\n",
    "            if 'nest_asyncio' not in sys.modules: __import__('nest_asyncio').apply(); return aiorun(object)\n",
    "            else: raise e\n"
   ]
  },
  {
   "cell_type": "code",
   "execution_count": 5,
   "metadata": {},
   "outputs": [],
   "source": [
    "    class Test(__import__('unittest').TestCase):\n",
    "        def test_instances(x): ..."
   ]
  },
  {
   "cell_type": "code",
   "execution_count": 6,
   "metadata": {},
   "outputs": [
    {
     "name": "stderr",
     "output_type": "stream",
     "text": [
      ".\n",
      "----------------------------------------------------------------------\n",
      "Ran 1 test in 0.001s\n",
      "\n",
      "OK\n"
     ]
    }
   ],
   "source": [
    "    def load_tests(loader, tests, ignore): tests.addTests(doctest.DocTestSuite(importlib.import_module(__name__), optionflags=doctest.ELLIPSIS)); return tests\n",
    "    if __name__ == '__main__': \n",
    "        import unittest, pytest, jsonschema, importlib, doctest\n",
    "        unittest.main(argv=' ', exit=False, verbosity=1)"
   ]
  },
  {
   "cell_type": "code",
   "execution_count": 11,
   "metadata": {},
   "outputs": [
    {
     "name": "stdout",
     "output_type": "stream",
     "text": [
      "[NbConvertApp] Converting notebook lists.ipynb to script\n",
      "[NbConvertApp] Writing 1929 bytes to lists.py\n",
      "\u001b[1mreformatted lists.py\u001b[0m\n",
      "\u001b[1mAll done! ✨ 🍰 ✨\u001b[0m\n",
      "\u001b[1m1 file reformatted\u001b[0m.\u001b[0m\n",
      "parsing /Users/tonyfast/xxxxx/tonyfast/jschema/lists.py...\n"
     ]
    },
    {
     "data": {
      "image/svg+xml": [
       "<svg height=\"119pt\" viewBox=\"0.00 0.00 454.81 119.00\" width=\"455pt\" xmlns=\"http://www.w3.org/2000/svg\" xmlns:xlink=\"http://www.w3.org/1999/xlink\">\n",
       "<g class=\"graph\" id=\"graph0\" transform=\"scale(1 1) rotate(0) translate(4 115)\">\n",
       "<title>classes_lists</title>\n",
       "<polygon fill=\"#ffffff\" points=\"-4,4 -4,-115 450.814,-115 450.814,4 -4,4\" stroke=\"transparent\"/>\n",
       "<!-- 0 -->\n",
       "<g class=\"node\" id=\"node1\">\n",
       "<title>0</title>\n",
       "<polygon fill=\"none\" points=\"0,-21.5 0,-89.5 73.5449,-89.5 73.5449,-21.5 0,-21.5\" stroke=\"#000000\"/>\n",
       "<text fill=\"#000000\" font-family=\"Times,serif\" font-size=\"14.00\" text-anchor=\"middle\" x=\"36.7725\" y=\"-74.3\">ListofDict</text>\n",
       "<polyline fill=\"none\" points=\"0,-67.5 73.5449,-67.5 \" stroke=\"#000000\"/>\n",
       "<polyline fill=\"none\" points=\"0,-43.5 73.5449,-43.5 \" stroke=\"#000000\"/>\n",
       "<text fill=\"#000000\" font-family=\"Times,serif\" font-size=\"14.00\" text-anchor=\"middle\" x=\"36.7725\" y=\"-28.3\"> </text>\n",
       "</g>\n",
       "<!-- 1 -->\n",
       "<g class=\"node\" id=\"node2\">\n",
       "<title>1</title>\n",
       "<polygon fill=\"none\" points=\"91.1621,-21.5 91.1621,-89.5 162.3828,-89.5 162.3828,-21.5 91.1621,-21.5\" stroke=\"#000000\"/>\n",
       "<text fill=\"#000000\" font-family=\"Times,serif\" font-size=\"14.00\" text-anchor=\"middle\" x=\"126.7725\" y=\"-74.3\">ListofList</text>\n",
       "<polyline fill=\"none\" points=\"91.1621,-67.5 162.3828,-67.5 \" stroke=\"#000000\"/>\n",
       "<polyline fill=\"none\" points=\"91.1621,-43.5 162.3828,-43.5 \" stroke=\"#000000\"/>\n",
       "<text fill=\"#000000\" font-family=\"Times,serif\" font-size=\"14.00\" text-anchor=\"middle\" x=\"126.7725\" y=\"-28.3\"> </text>\n",
       "</g>\n",
       "<!-- 2 -->\n",
       "<g class=\"node\" id=\"node3\">\n",
       "<title>2</title>\n",
       "<polygon fill=\"none\" points=\"180.3345,-.5 180.3345,-110.5 319.2104,-110.5 319.2104,-.5 180.3345,-.5\" stroke=\"#000000\"/>\n",
       "<text fill=\"#000000\" font-family=\"Times,serif\" font-size=\"14.00\" text-anchor=\"middle\" x=\"249.7725\" y=\"-95.3\">ListofUri</text>\n",
       "<polyline fill=\"none\" points=\"180.3345,-88.5 319.2104,-88.5 \" stroke=\"#000000\"/>\n",
       "<polyline fill=\"none\" points=\"180.3345,-64.5 319.2104,-64.5 \" stroke=\"#000000\"/>\n",
       "<text fill=\"#000000\" font-family=\"Times,serif\" font-size=\"14.00\" text-anchor=\"start\" x=\"188.3345\" y=\"-49.3\">gather(x, json)</text>\n",
       "<text fill=\"#000000\" font-family=\"Times,serif\" font-size=\"14.00\" text-anchor=\"start\" x=\"188.3345\" y=\"-35.3\">json(x)</text>\n",
       "<text fill=\"#000000\" font-family=\"Times,serif\" font-size=\"14.00\" text-anchor=\"start\" x=\"188.3345\" y=\"-21.3\">one(session, url, json)</text>\n",
       "<text fill=\"#000000\" font-family=\"Times,serif\" font-size=\"14.00\" text-anchor=\"start\" x=\"188.3345\" y=\"-7.3\">text(x)</text>\n",
       "</g>\n",
       "<!-- 3 -->\n",
       "<g class=\"node\" id=\"node4\">\n",
       "<title>3</title>\n",
       "<polygon fill=\"none\" points=\"336.731,-21.5 336.731,-89.5 446.814,-89.5 446.814,-21.5 336.731,-21.5\" stroke=\"#000000\"/>\n",
       "<text fill=\"#000000\" font-family=\"Times,serif\" font-size=\"14.00\" text-anchor=\"middle\" x=\"391.7725\" y=\"-74.3\">Test</text>\n",
       "<polyline fill=\"none\" points=\"336.731,-67.5 446.814,-67.5 \" stroke=\"#000000\"/>\n",
       "<polyline fill=\"none\" points=\"336.731,-43.5 446.814,-43.5 \" stroke=\"#000000\"/>\n",
       "<text fill=\"#000000\" font-family=\"Times,serif\" font-size=\"14.00\" text-anchor=\"start\" x=\"344.731\" y=\"-28.3\">test_instances(x)</text>\n",
       "</g>\n",
       "</g>\n",
       "</svg>"
      ],
      "text/plain": [
       "<IPython.core.display.SVG object>"
      ]
     },
     "metadata": {},
     "output_type": "display_data"
    }
   ],
   "source": [
    "    if __name__ == '__main__': \n",
    "        !jupyter nbconvert --to script lists.ipynb\n",
    "        !black lists.py\n",
    "        !pyreverse lists -osvg -plists\n",
    "        display(__import__('IPython').display.SVG('classes_lists.svg'))        \n",
    "        !rm classes_lists.svg lists.py"
   ]
  },
  {
   "cell_type": "code",
   "execution_count": null,
   "metadata": {},
   "outputs": [],
   "source": []
  }
 ],
 "metadata": {
  "kernelspec": {
   "display_name": "Python 3",
   "language": "python",
   "name": "python3"
  },
  "language_info": {
   "codemirror_mode": {
    "name": "ipython",
    "version": 3
   },
   "file_extension": ".py",
   "mimetype": "text/x-python",
   "name": "python",
   "nbconvert_exporter": "python",
   "pygments_lexer": "ipython3",
   "version": "3.7.3"
  }
 },
 "nbformat": 4,
 "nbformat_minor": 4
}
