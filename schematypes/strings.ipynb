{
 "cells": [
  {
   "cell_type": "code",
   "execution_count": 37,
   "metadata": {},
   "outputs": [],
   "source": [
    "    import importnb\n",
    "    with importnb.Notebook():\n",
    "        try: from .schemas import String, JsonSchema, discover\n",
    "        except: from schemas import String, JsonSchema, discover"
   ]
  },
  {
   "cell_type": "code",
   "execution_count": 28,
   "metadata": {},
   "outputs": [],
   "source": [
    "    class Uri(String, format='uri'): \n",
    "        def get(x, *args, **kwargs): return __import__('requests').get(x, *args, **kwargs)\n",
    "        def text(x): return Uri.get(x).text\n",
    "        def json(x): return get(x).json()"
   ]
  },
  {
   "cell_type": "code",
   "execution_count": 29,
   "metadata": {},
   "outputs": [],
   "source": [
    "    class Arrow:\n",
    "        def time(x: String) -> 'arrow.Arrow': return __import__('arrow').Arrow(x)\n",
    "    class Date(Arrow, String, format='date'): ...\n",
    "    class Datetime(Arrow, String, format='date-time'): ...\n",
    "    class Time(Arrow, String, format='time'): ..."
   ]
  },
  {
   "cell_type": "code",
   "execution_count": 30,
   "metadata": {},
   "outputs": [],
   "source": [
    "    class Email(String, format='email'): ...\n",
    "    class JsonPointer(String, format='json-pointer'): ..."
   ]
  },
  {
   "cell_type": "code",
   "execution_count": 31,
   "metadata": {},
   "outputs": [],
   "source": [
    "    class Markdown(String, pattern=r\"^[#|>*|+|-]+\\s+\"): \n",
    "        def display(x): return __import__('IPython').display.Markdown(x)\n",
    "        def _repr_mimebundle_(x, include=None, exclude=None):\n",
    "            return __import__('IPython').get_ipython().display_formatter.format(x.display())\n",
    "\n",
    "    class GraphViz(String, pattern=r\"^[di]?graph\\s{.+}\"): \n",
    "        def graphviz(x): return __import__('graphviz').Source(x)\n",
    "        def _repr_mimebundle_(x, include=None, exclude=None):\n",
    "            return __import__('IPython').get_ipython().display_formatter.format(x.graphviz())"
   ]
  },
  {
   "cell_type": "code",
   "execution_count": 32,
   "metadata": {},
   "outputs": [],
   "source": [
    "    class File(String, format='file-path'): \n",
    "        def __init__(x, *a, **k): assert __import__('pathlib').Path(x).exists()\n",
    "        def read_text(x): return String.discover(__import__('pathlib').Path(x).read_text())\n",
    "        def read_json(x): \n",
    "            with open(x) as file: object = __import__('ujson').load(file)\n",
    "            return object\n",
    "        def parse(x, *args, **kwargs): return discover(__import__('anyconfig').load(x, *args, **kwargs))"
   ]
  },
  {
   "cell_type": "code",
   "execution_count": 33,
   "metadata": {},
   "outputs": [],
   "source": [
    "    class Test(__import__('unittest').TestCase):\n",
    "        def test_instances(x):\n",
    "            assert isinstance('https://api.github.com', Uri)\n",
    "            assert not isinstance('#xx', Markdown)\n",
    "            assert isinstance('# xx', Markdown)\n",
    "            assert isinstance('strings.ipynb', File)"
   ]
  },
  {
   "cell_type": "code",
   "execution_count": 34,
   "metadata": {},
   "outputs": [
    {
     "name": "stderr",
     "output_type": "stream",
     "text": [
      ".\n",
      "----------------------------------------------------------------------\n",
      "Ran 1 test in 0.002s\n",
      "\n",
      "OK\n"
     ]
    }
   ],
   "source": [
    "    def load_tests(loader, tests, ignore): tests.addTests(doctest.DocTestSuite(importlib.import_module(__name__), optionflags=doctest.ELLIPSIS)); return tests\n",
    "    if __name__ == '__main__': \n",
    "        import unittest, pytest, jsonschema, importlib, doctest\n",
    "        unittest.main(argv=' ', exit=False, verbosity=1)"
   ]
  },
  {
   "cell_type": "code",
   "execution_count": 38,
   "metadata": {},
   "outputs": [
    {
     "name": "stdout",
     "output_type": "stream",
     "text": [
      "[NbConvertApp] Converting notebook strings.ipynb to script\n",
      "[NbConvertApp] Writing 2739 bytes to strings.py\n",
      "\u001b[1mreformatted strings.py\u001b[0m\n",
      "\u001b[1mAll done! ✨ 🍰 ✨\u001b[0m\n",
      "\u001b[1m1 file reformatted\u001b[0m.\u001b[0m\n",
      "parsing /Users/tonyfast/xxxxx/tonyfast/jschema/strings.py...\n"
     ]
    },
    {
     "data": {
      "image/svg+xml": [
       "<svg height=\"210pt\" viewBox=\"0.00 0.00 891.83 210.00\" width=\"892pt\" xmlns=\"http://www.w3.org/2000/svg\" xmlns:xlink=\"http://www.w3.org/1999/xlink\">\n",
       "<g class=\"graph\" id=\"graph0\" transform=\"scale(1 1) rotate(0) translate(4 206)\">\n",
       "<title>classes_strings</title>\n",
       "<polygon fill=\"#ffffff\" points=\"-4,4 -4,-206 887.8311,-206 887.8311,4 -4,4\" stroke=\"transparent\"/>\n",
       "<!-- 0 -->\n",
       "<g class=\"node\" id=\"node1\">\n",
       "<title>0</title>\n",
       "<polygon fill=\"none\" points=\"77.3965,-133.5 77.3965,-201.5 134.6035,-201.5 134.6035,-133.5 77.3965,-133.5\" stroke=\"#000000\"/>\n",
       "<text fill=\"#000000\" font-family=\"Times,serif\" font-size=\"14.00\" text-anchor=\"middle\" x=\"106\" y=\"-186.3\">Arrow</text>\n",
       "<polyline fill=\"none\" points=\"77.3965,-179.5 134.6035,-179.5 \" stroke=\"#000000\"/>\n",
       "<polyline fill=\"none\" points=\"77.3965,-155.5 134.6035,-155.5 \" stroke=\"#000000\"/>\n",
       "<text fill=\"#000000\" font-family=\"Times,serif\" font-size=\"14.00\" text-anchor=\"start\" x=\"85.3965\" y=\"-140.3\">time(x)</text>\n",
       "</g>\n",
       "<!-- 1 -->\n",
       "<g class=\"node\" id=\"node2\">\n",
       "<title>1</title>\n",
       "<polygon fill=\"none\" points=\"0,-14.5 0,-82.5 54,-82.5 54,-14.5 0,-14.5\" stroke=\"#000000\"/>\n",
       "<text fill=\"#000000\" font-family=\"Times,serif\" font-size=\"14.00\" text-anchor=\"middle\" x=\"26.7139\" y=\"-67.3\">Date</text>\n",
       "<polyline fill=\"none\" points=\"0,-60.5 53.4277,-60.5 \" stroke=\"#000000\"/>\n",
       "<polyline fill=\"none\" points=\"0,-36.5 53.4277,-36.5 \" stroke=\"#000000\"/>\n",
       "<text fill=\"#000000\" font-family=\"Times,serif\" font-size=\"14.00\" text-anchor=\"middle\" x=\"26.7139\" y=\"-21.3\"> </text>\n",
       "</g>\n",
       "<!-- 1&#45;&gt;0 -->\n",
       "<g class=\"edge\" id=\"edge1\">\n",
       "<title>1-&gt;0</title>\n",
       "<path d=\"M49.6382,-82.6006C58.3981,-95.7958 68.5199,-111.0427 77.7482,-124.9435\" fill=\"none\" stroke=\"#000000\"/>\n",
       "<polygon fill=\"none\" points=\"74.9116,-126.9989 83.3585,-133.3944 80.7435,-123.1273 74.9116,-126.9989\" stroke=\"#000000\"/>\n",
       "</g>\n",
       "<!-- 2 -->\n",
       "<g class=\"node\" id=\"node3\">\n",
       "<title>2</title>\n",
       "<polygon fill=\"none\" points=\"72.3447,-14.5 72.3447,-82.5 139.6553,-82.5 139.6553,-14.5 72.3447,-14.5\" stroke=\"#000000\"/>\n",
       "<text fill=\"#000000\" font-family=\"Times,serif\" font-size=\"14.00\" text-anchor=\"middle\" x=\"106\" y=\"-67.3\">Datetime</text>\n",
       "<polyline fill=\"none\" points=\"72.3447,-60.5 139.6553,-60.5 \" stroke=\"#000000\"/>\n",
       "<polyline fill=\"none\" points=\"72.3447,-36.5 139.6553,-36.5 \" stroke=\"#000000\"/>\n",
       "<text fill=\"#000000\" font-family=\"Times,serif\" font-size=\"14.00\" text-anchor=\"middle\" x=\"106\" y=\"-21.3\"> </text>\n",
       "</g>\n",
       "<!-- 2&#45;&gt;0 -->\n",
       "<g class=\"edge\" id=\"edge2\">\n",
       "<title>2-&gt;0</title>\n",
       "<path d=\"M106,-82.6006C106,-95.2979 106,-109.8949 106,-123.3643\" fill=\"none\" stroke=\"#000000\"/>\n",
       "<polygon fill=\"none\" points=\"102.5001,-123.3944 106,-133.3944 109.5001,-123.3944 102.5001,-123.3944\" stroke=\"#000000\"/>\n",
       "</g>\n",
       "<!-- 3 -->\n",
       "<g class=\"node\" id=\"node4\">\n",
       "<title>3</title>\n",
       "<polygon fill=\"none\" points=\"230,-14.5 230,-82.5 284,-82.5 284,-14.5 230,-14.5\" stroke=\"#000000\"/>\n",
       "<text fill=\"#000000\" font-family=\"Times,serif\" font-size=\"14.00\" text-anchor=\"middle\" x=\"256.7173\" y=\"-67.3\">Email</text>\n",
       "<polyline fill=\"none\" points=\"230,-60.5 283.4346,-60.5 \" stroke=\"#000000\"/>\n",
       "<polyline fill=\"none\" points=\"230,-36.5 283.4346,-36.5 \" stroke=\"#000000\"/>\n",
       "<text fill=\"#000000\" font-family=\"Times,serif\" font-size=\"14.00\" text-anchor=\"middle\" x=\"256.7173\" y=\"-21.3\"> </text>\n",
       "</g>\n",
       "<!-- 4 -->\n",
       "<g class=\"node\" id=\"node5\">\n",
       "<title>4</title>\n",
       "<polygon fill=\"none\" points=\"301.624,-.5 301.624,-96.5 388.376,-96.5 388.376,-.5 301.624,-.5\" stroke=\"#000000\"/>\n",
       "<text fill=\"#000000\" font-family=\"Times,serif\" font-size=\"14.00\" text-anchor=\"middle\" x=\"345\" y=\"-81.3\">File</text>\n",
       "<polyline fill=\"none\" points=\"301.624,-74.5 388.376,-74.5 \" stroke=\"#000000\"/>\n",
       "<polyline fill=\"none\" points=\"301.624,-50.5 388.376,-50.5 \" stroke=\"#000000\"/>\n",
       "<text fill=\"#000000\" font-family=\"Times,serif\" font-size=\"14.00\" text-anchor=\"start\" x=\"309.624\" y=\"-35.3\">parse(x)</text>\n",
       "<text fill=\"#000000\" font-family=\"Times,serif\" font-size=\"14.00\" text-anchor=\"start\" x=\"309.624\" y=\"-21.3\">read_json(x)</text>\n",
       "<text fill=\"#000000\" font-family=\"Times,serif\" font-size=\"14.00\" text-anchor=\"start\" x=\"309.624\" y=\"-7.3\">read_text(x)</text>\n",
       "</g>\n",
       "<!-- 5 -->\n",
       "<g class=\"node\" id=\"node6\">\n",
       "<title>5</title>\n",
       "<polygon fill=\"none\" points=\"406.3481,-14.5 406.3481,-82.5 487.6519,-82.5 487.6519,-14.5 406.3481,-14.5\" stroke=\"#000000\"/>\n",
       "<text fill=\"#000000\" font-family=\"Times,serif\" font-size=\"14.00\" text-anchor=\"middle\" x=\"447\" y=\"-67.3\">GraphViz</text>\n",
       "<polyline fill=\"none\" points=\"406.3481,-60.5 487.6519,-60.5 \" stroke=\"#000000\"/>\n",
       "<polyline fill=\"none\" points=\"406.3481,-36.5 487.6519,-36.5 \" stroke=\"#000000\"/>\n",
       "<text fill=\"#000000\" font-family=\"Times,serif\" font-size=\"14.00\" text-anchor=\"start\" x=\"414.3481\" y=\"-21.3\">graphviz(x)</text>\n",
       "</g>\n",
       "<!-- 6 -->\n",
       "<g class=\"node\" id=\"node7\">\n",
       "<title>6</title>\n",
       "<polygon fill=\"none\" points=\"505.3311,-14.5 505.3311,-82.5 586.6689,-82.5 586.6689,-14.5 505.3311,-14.5\" stroke=\"#000000\"/>\n",
       "<text fill=\"#000000\" font-family=\"Times,serif\" font-size=\"14.00\" text-anchor=\"middle\" x=\"546\" y=\"-67.3\">JsonPointer</text>\n",
       "<polyline fill=\"none\" points=\"505.3311,-60.5 586.6689,-60.5 \" stroke=\"#000000\"/>\n",
       "<polyline fill=\"none\" points=\"505.3311,-36.5 586.6689,-36.5 \" stroke=\"#000000\"/>\n",
       "<text fill=\"#000000\" font-family=\"Times,serif\" font-size=\"14.00\" text-anchor=\"middle\" x=\"546\" y=\"-21.3\"> </text>\n",
       "</g>\n",
       "<!-- 7 -->\n",
       "<g class=\"node\" id=\"node8\">\n",
       "<title>7</title>\n",
       "<polygon fill=\"none\" points=\"604.2827,-14.5 604.2827,-82.5 681.7173,-82.5 681.7173,-14.5 604.2827,-14.5\" stroke=\"#000000\"/>\n",
       "<text fill=\"#000000\" font-family=\"Times,serif\" font-size=\"14.00\" text-anchor=\"middle\" x=\"643\" y=\"-67.3\">Markdown</text>\n",
       "<polyline fill=\"none\" points=\"604.2827,-60.5 681.7173,-60.5 \" stroke=\"#000000\"/>\n",
       "<polyline fill=\"none\" points=\"604.2827,-36.5 681.7173,-36.5 \" stroke=\"#000000\"/>\n",
       "<text fill=\"#000000\" font-family=\"Times,serif\" font-size=\"14.00\" text-anchor=\"start\" x=\"612.2827\" y=\"-21.3\">display(x)</text>\n",
       "</g>\n",
       "<!-- 8 -->\n",
       "<g class=\"node\" id=\"node9\">\n",
       "<title>8</title>\n",
       "<polygon fill=\"none\" points=\"699.9585,-14.5 699.9585,-82.5 810.0415,-82.5 810.0415,-14.5 699.9585,-14.5\" stroke=\"#000000\"/>\n",
       "<text fill=\"#000000\" font-family=\"Times,serif\" font-size=\"14.00\" text-anchor=\"middle\" x=\"755\" y=\"-67.3\">Test</text>\n",
       "<polyline fill=\"none\" points=\"699.9585,-60.5 810.0415,-60.5 \" stroke=\"#000000\"/>\n",
       "<polyline fill=\"none\" points=\"699.9585,-36.5 810.0415,-36.5 \" stroke=\"#000000\"/>\n",
       "<text fill=\"#000000\" font-family=\"Times,serif\" font-size=\"14.00\" text-anchor=\"start\" x=\"707.9585\" y=\"-21.3\">test_instances(x)</text>\n",
       "</g>\n",
       "<!-- 9 -->\n",
       "<g class=\"node\" id=\"node10\">\n",
       "<title>9</title>\n",
       "<polygon fill=\"none\" points=\"158,-14.5 158,-82.5 212,-82.5 212,-14.5 158,-14.5\" stroke=\"#000000\"/>\n",
       "<text fill=\"#000000\" font-family=\"Times,serif\" font-size=\"14.00\" text-anchor=\"middle\" x=\"184.5298\" y=\"-67.3\">Time</text>\n",
       "<polyline fill=\"none\" points=\"158,-60.5 211.0596,-60.5 \" stroke=\"#000000\"/>\n",
       "<polyline fill=\"none\" points=\"158,-36.5 211.0596,-36.5 \" stroke=\"#000000\"/>\n",
       "<text fill=\"#000000\" font-family=\"Times,serif\" font-size=\"14.00\" text-anchor=\"middle\" x=\"184.5298\" y=\"-21.3\"> </text>\n",
       "</g>\n",
       "<!-- 9&#45;&gt;0 -->\n",
       "<g class=\"edge\" id=\"edge3\">\n",
       "<title>9-&gt;0</title>\n",
       "<path d=\"M162.3618,-82.6006C153.6019,-95.7958 143.4801,-111.0427 134.2518,-124.9435\" fill=\"none\" stroke=\"#000000\"/>\n",
       "<polygon fill=\"none\" points=\"131.2565,-123.1273 128.6415,-133.3944 137.0884,-126.9989 131.2565,-123.1273\" stroke=\"#000000\"/>\n",
       "</g>\n",
       "<!-- 10 -->\n",
       "<g class=\"node\" id=\"node11\">\n",
       "<title>10</title>\n",
       "<polygon fill=\"none\" points=\"828.1689,-.5 828.1689,-96.5 883.8311,-96.5 883.8311,-.5 828.1689,-.5\" stroke=\"#000000\"/>\n",
       "<text fill=\"#000000\" font-family=\"Times,serif\" font-size=\"14.00\" text-anchor=\"middle\" x=\"856\" y=\"-81.3\">Uri</text>\n",
       "<polyline fill=\"none\" points=\"828.1689,-74.5 883.8311,-74.5 \" stroke=\"#000000\"/>\n",
       "<polyline fill=\"none\" points=\"828.1689,-50.5 883.8311,-50.5 \" stroke=\"#000000\"/>\n",
       "<text fill=\"#000000\" font-family=\"Times,serif\" font-size=\"14.00\" text-anchor=\"start\" x=\"836.1689\" y=\"-35.3\">get(x)</text>\n",
       "<text fill=\"#000000\" font-family=\"Times,serif\" font-size=\"14.00\" text-anchor=\"start\" x=\"836.1689\" y=\"-21.3\">json(x)</text>\n",
       "<text fill=\"#000000\" font-family=\"Times,serif\" font-size=\"14.00\" text-anchor=\"start\" x=\"836.1689\" y=\"-7.3\">text(x)</text>\n",
       "</g>\n",
       "</g>\n",
       "</svg>"
      ],
      "text/plain": [
       "<IPython.core.display.SVG object>"
      ]
     },
     "metadata": {},
     "output_type": "display_data"
    }
   ],
   "source": [
    "    if __name__ == '__main__': \n",
    "        !jupyter nbconvert --to script strings.ipynb\n",
    "        !black strings.py\n",
    "        !pyreverse strings -osvg -pstrings\n",
    "        display(__import__('IPython').display.SVG('classes_strings.svg'))        \n",
    "        !rm strings.py classes_strings.svg\n"
   ]
  },
  {
   "cell_type": "code",
   "execution_count": null,
   "metadata": {},
   "outputs": [],
   "source": []
  }
 ],
 "metadata": {
  "kernelspec": {
   "display_name": "Python 3",
   "language": "python",
   "name": "python3"
  },
  "language_info": {
   "codemirror_mode": {
    "name": "ipython",
    "version": 3
   },
   "file_extension": ".py",
   "mimetype": "text/x-python",
   "name": "python",
   "nbconvert_exporter": "python",
   "pygments_lexer": "ipython3",
   "version": "3.7.3"
  }
 },
 "nbformat": 4,
 "nbformat_minor": 4
}
