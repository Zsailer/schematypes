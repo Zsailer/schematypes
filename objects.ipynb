{
 "cells": [
  {
   "cell_type": "code",
   "execution_count": 2,
   "metadata": {},
   "outputs": [],
   "source": [
    "    import importnb\n",
    "    with importnb.Notebook():\n",
    "        try: \n",
    "            from .schemas import Object\n",
    "        except: \n",
    "            from schemas import Object\n"
   ]
  },
  {
   "cell_type": "code",
   "execution_count": 4,
   "metadata": {},
   "outputs": [],
   "source": [
    "    import pandas"
   ]
  },
  {
   "cell_type": "code",
   "execution_count": 5,
   "metadata": {},
   "outputs": [
    {
     "data": {
      "text/plain": [
       "module"
      ]
     },
     "execution_count": 5,
     "metadata": {},
     "output_type": "execute_result"
    }
   ],
   "source": [
    "    class Pandas(Object): \n",
    "        def _repr_mimebundle_(x, include=None, exclude=None):\n",
    "            data, metadata = super()._repr_mimebundle_(include, exclude)\n",
    "            return data, {**metadata, 'allOf':[\n",
    "                TableSchema(__import__('json').loads(x.object.to_json(orient='table'))['schema']),\n",
    "                List.new(minItems=len(x.object), maxItems=len(x.object)).__schema__,]}\n",
    "        \n",
    "    Pandas.register(pandas.DataFrame), Pandas.register(pandas.Series)\n",
    "    \n",
    "    class Module(Object): \n",
    "        def _repr_mimebundle_(x, include=None, exclude=None):\n",
    "            data, metadata = super()._repr_mimebundle_(include, exclude)\n",
    "            return data, {**metadata, \"title\": x.object.__name__, \"description\": x.object.__doc__ or '', \"@id\": getattr(x.object, '__file__', '')}\n",
    "    Module.register(__import__('types').ModuleType)"
   ]
  },
  {
   "cell_type": "code",
   "execution_count": 6,
   "metadata": {},
   "outputs": [],
   "source": [
    "    class Test(__import__('unittest').TestCase):\n",
    "        def test_instances(x): ..."
   ]
  },
  {
   "cell_type": "code",
   "execution_count": 7,
   "metadata": {},
   "outputs": [
    {
     "name": "stderr",
     "output_type": "stream",
     "text": [
      ".\n",
      "----------------------------------------------------------------------\n",
      "Ran 1 test in 0.001s\n",
      "\n",
      "OK\n"
     ]
    }
   ],
   "source": [
    "    def load_tests(loader, tests, ignore): tests.addTests(doctest.DocTestSuite(importlib.import_module(__name__), optionflags=doctest.ELLIPSIS)); return tests\n",
    "    if __name__ == '__main__': \n",
    "        import unittest, pytest, jsonschema, importlib, doctest\n",
    "        unittest.main(argv=' ', exit=False, verbosity=1)"
   ]
  },
  {
   "cell_type": "code",
   "execution_count": 9,
   "metadata": {},
   "outputs": [
    {
     "name": "stdout",
     "output_type": "stream",
     "text": [
      "[NbConvertApp] Converting notebook objects.ipynb to script\n",
      "[NbConvertApp] Writing 1784 bytes to objects.py\n",
      "\u001b[1mreformatted objects.py\u001b[0m\n",
      "\u001b[1mAll done! ✨ 🍰 ✨\u001b[0m\n",
      "\u001b[1m1 file reformatted\u001b[0m.\u001b[0m\n",
      "parsing /Users/tonyfast/xxxxx/tonyfast/jschema/objects.py...\n"
     ]
    },
    {
     "data": {
      "image/svg+xml": [
       "<svg height=\"77pt\" viewBox=\"0.00 0.00 269.82 77.00\" width=\"270pt\" xmlns=\"http://www.w3.org/2000/svg\" xmlns:xlink=\"http://www.w3.org/1999/xlink\">\n",
       "<g class=\"graph\" id=\"graph0\" transform=\"scale(1 1) rotate(0) translate(4 73)\">\n",
       "<title>classes_objects</title>\n",
       "<polygon fill=\"#ffffff\" points=\"-4,4 -4,-73 265.8174,-73 265.8174,4 -4,4\" stroke=\"transparent\"/>\n",
       "<!-- 0 -->\n",
       "<g class=\"node\" id=\"node1\">\n",
       "<title>0</title>\n",
       "<polygon fill=\"none\" points=\"0,-.5 0,-68.5 59.5518,-68.5 59.5518,-.5 0,-.5\" stroke=\"#000000\"/>\n",
       "<text fill=\"#000000\" font-family=\"Times,serif\" font-size=\"14.00\" text-anchor=\"middle\" x=\"29.7759\" y=\"-53.3\">Module</text>\n",
       "<polyline fill=\"none\" points=\"0,-46.5 59.5518,-46.5 \" stroke=\"#000000\"/>\n",
       "<polyline fill=\"none\" points=\"0,-22.5 59.5518,-22.5 \" stroke=\"#000000\"/>\n",
       "<text fill=\"#000000\" font-family=\"Times,serif\" font-size=\"14.00\" text-anchor=\"middle\" x=\"29.7759\" y=\"-7.3\"> </text>\n",
       "</g>\n",
       "<!-- 1 -->\n",
       "<g class=\"node\" id=\"node2\">\n",
       "<title>1</title>\n",
       "<polygon fill=\"none\" points=\"77.9448,-.5 77.9448,-68.5 133.6069,-68.5 133.6069,-.5 77.9448,-.5\" stroke=\"#000000\"/>\n",
       "<text fill=\"#000000\" font-family=\"Times,serif\" font-size=\"14.00\" text-anchor=\"middle\" x=\"105.7759\" y=\"-53.3\">Pandas</text>\n",
       "<polyline fill=\"none\" points=\"77.9448,-46.5 133.6069,-46.5 \" stroke=\"#000000\"/>\n",
       "<polyline fill=\"none\" points=\"77.9448,-22.5 133.6069,-22.5 \" stroke=\"#000000\"/>\n",
       "<text fill=\"#000000\" font-family=\"Times,serif\" font-size=\"14.00\" text-anchor=\"middle\" x=\"105.7759\" y=\"-7.3\"> </text>\n",
       "</g>\n",
       "<!-- 2 -->\n",
       "<g class=\"node\" id=\"node3\">\n",
       "<title>2</title>\n",
       "<polygon fill=\"none\" points=\"151.7344,-.5 151.7344,-68.5 261.8174,-68.5 261.8174,-.5 151.7344,-.5\" stroke=\"#000000\"/>\n",
       "<text fill=\"#000000\" font-family=\"Times,serif\" font-size=\"14.00\" text-anchor=\"middle\" x=\"206.7759\" y=\"-53.3\">Test</text>\n",
       "<polyline fill=\"none\" points=\"151.7344,-46.5 261.8174,-46.5 \" stroke=\"#000000\"/>\n",
       "<polyline fill=\"none\" points=\"151.7344,-22.5 261.8174,-22.5 \" stroke=\"#000000\"/>\n",
       "<text fill=\"#000000\" font-family=\"Times,serif\" font-size=\"14.00\" text-anchor=\"start\" x=\"159.7344\" y=\"-7.3\">test_instances(x)</text>\n",
       "</g>\n",
       "</g>\n",
       "</svg>"
      ],
      "text/plain": [
       "<IPython.core.display.SVG object>"
      ]
     },
     "metadata": {},
     "output_type": "display_data"
    }
   ],
   "source": [
    "    if __name__ == '__main__': \n",
    "        !jupyter nbconvert --to script objects.ipynb\n",
    "        !black objects.py\n",
    "        !pyreverse objects -osvg -pobjects\n",
    "        display(__import__('IPython').display.SVG('classes_objects.svg'))        \n",
    "        !rm classes_objects.svg objects.py"
   ]
  },
  {
   "cell_type": "code",
   "execution_count": null,
   "metadata": {},
   "outputs": [],
   "source": []
  }
 ],
 "metadata": {
  "kernelspec": {
   "display_name": "Python 3",
   "language": "python",
   "name": "python3"
  },
  "language_info": {
   "codemirror_mode": {
    "name": "ipython",
    "version": 3
   },
   "file_extension": ".py",
   "mimetype": "text/x-python",
   "name": "python",
   "nbconvert_exporter": "python",
   "pygments_lexer": "ipython3",
   "version": "3.7.3"
  }
 },
 "nbformat": 4,
 "nbformat_minor": 4
}
